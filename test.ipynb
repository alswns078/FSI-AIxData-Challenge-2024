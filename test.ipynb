{
 "cells": [
  {
   "cell_type": "code",
   "execution_count": 1,
   "metadata": {},
   "outputs": [],
   "source": [
    "import torch\n",
    "import numpy as np\n",
    "from hyperfast import HyperFastClassifier\n",
    "from sklearn.metrics import accuracy_score\n",
    "from sklearn.model_selection import train_test_split\n",
    "import pandas as pd"
   ]
  },
  {
   "cell_type": "code",
   "execution_count": 2,
   "metadata": {},
   "outputs": [
    {
     "name": "stdout",
     "output_type": "stream",
     "text": [
      "28462\n"
     ]
    }
   ],
   "source": [
    "data = pd.read_csv('./val.csv')\n",
    "print(len(data))"
   ]
  },
  {
   "cell_type": "code",
   "execution_count": 30,
   "metadata": {},
   "outputs": [
    {
     "data": {
      "text/html": [
       "<div>\n",
       "<style scoped>\n",
       "    .dataframe tbody tr th:only-of-type {\n",
       "        vertical-align: middle;\n",
       "    }\n",
       "\n",
       "    .dataframe tbody tr th {\n",
       "        vertical-align: top;\n",
       "    }\n",
       "\n",
       "    .dataframe thead th {\n",
       "        text-align: right;\n",
       "    }\n",
       "</style>\n",
       "<table border=\"1\" class=\"dataframe\">\n",
       "  <thead>\n",
       "    <tr style=\"text-align: right;\">\n",
       "      <th></th>\n",
       "      <th>V1</th>\n",
       "      <th>V2</th>\n",
       "      <th>V3</th>\n",
       "      <th>V4</th>\n",
       "      <th>V5</th>\n",
       "      <th>V6</th>\n",
       "      <th>V7</th>\n",
       "      <th>V8</th>\n",
       "      <th>V9</th>\n",
       "      <th>V10</th>\n",
       "      <th>...</th>\n",
       "      <th>V22</th>\n",
       "      <th>V23</th>\n",
       "      <th>V24</th>\n",
       "      <th>V25</th>\n",
       "      <th>V26</th>\n",
       "      <th>V27</th>\n",
       "      <th>V28</th>\n",
       "      <th>V29</th>\n",
       "      <th>V30</th>\n",
       "      <th>Class</th>\n",
       "    </tr>\n",
       "  </thead>\n",
       "  <tbody>\n",
       "    <tr>\n",
       "      <th>0</th>\n",
       "      <td>-0.338262</td>\n",
       "      <td>1.119593</td>\n",
       "      <td>1.044367</td>\n",
       "      <td>-0.222187</td>\n",
       "      <td>0.499361</td>\n",
       "      <td>-0.246761</td>\n",
       "      <td>0.651583</td>\n",
       "      <td>0.069539</td>\n",
       "      <td>-0.736727</td>\n",
       "      <td>-0.366846</td>\n",
       "      <td>...</td>\n",
       "      <td>-0.633753</td>\n",
       "      <td>-0.120794</td>\n",
       "      <td>-0.385050</td>\n",
       "      <td>-0.069733</td>\n",
       "      <td>0.094199</td>\n",
       "      <td>0.246219</td>\n",
       "      <td>0.083076</td>\n",
       "      <td>-0.255991</td>\n",
       "      <td>-0.994878</td>\n",
       "      <td>0</td>\n",
       "    </tr>\n",
       "    <tr>\n",
       "      <th>1</th>\n",
       "      <td>0.962496</td>\n",
       "      <td>0.328461</td>\n",
       "      <td>-0.171479</td>\n",
       "      <td>2.109204</td>\n",
       "      <td>1.129566</td>\n",
       "      <td>1.696038</td>\n",
       "      <td>0.107712</td>\n",
       "      <td>0.521502</td>\n",
       "      <td>-1.191311</td>\n",
       "      <td>0.724396</td>\n",
       "      <td>...</td>\n",
       "      <td>0.402492</td>\n",
       "      <td>-0.048508</td>\n",
       "      <td>-1.371866</td>\n",
       "      <td>0.390814</td>\n",
       "      <td>0.199964</td>\n",
       "      <td>0.016371</td>\n",
       "      <td>-0.014605</td>\n",
       "      <td>0.168937</td>\n",
       "      <td>-0.994784</td>\n",
       "      <td>0</td>\n",
       "    </tr>\n",
       "    <tr>\n",
       "      <th>2</th>\n",
       "      <td>1.145524</td>\n",
       "      <td>0.575068</td>\n",
       "      <td>0.194008</td>\n",
       "      <td>2.598192</td>\n",
       "      <td>-0.092210</td>\n",
       "      <td>-1.044430</td>\n",
       "      <td>0.531588</td>\n",
       "      <td>-0.241888</td>\n",
       "      <td>-0.896287</td>\n",
       "      <td>0.757952</td>\n",
       "      <td>...</td>\n",
       "      <td>-0.119703</td>\n",
       "      <td>-0.076510</td>\n",
       "      <td>0.691320</td>\n",
       "      <td>0.633984</td>\n",
       "      <td>0.048741</td>\n",
       "      <td>-0.053192</td>\n",
       "      <td>0.016251</td>\n",
       "      <td>0.169496</td>\n",
       "      <td>-0.994502</td>\n",
       "      <td>0</td>\n",
       "    </tr>\n",
       "    <tr>\n",
       "      <th>3</th>\n",
       "      <td>0.927060</td>\n",
       "      <td>-0.323684</td>\n",
       "      <td>0.387585</td>\n",
       "      <td>0.544474</td>\n",
       "      <td>0.246787</td>\n",
       "      <td>1.650358</td>\n",
       "      <td>-0.427576</td>\n",
       "      <td>0.615371</td>\n",
       "      <td>0.226278</td>\n",
       "      <td>-0.225495</td>\n",
       "      <td>...</td>\n",
       "      <td>0.079359</td>\n",
       "      <td>0.096632</td>\n",
       "      <td>-0.992569</td>\n",
       "      <td>0.085096</td>\n",
       "      <td>0.377447</td>\n",
       "      <td>0.036096</td>\n",
       "      <td>-0.005960</td>\n",
       "      <td>0.331307</td>\n",
       "      <td>-0.994467</td>\n",
       "      <td>0</td>\n",
       "    </tr>\n",
       "    <tr>\n",
       "      <th>4</th>\n",
       "      <td>-3.005237</td>\n",
       "      <td>2.600138</td>\n",
       "      <td>1.483691</td>\n",
       "      <td>-2.418473</td>\n",
       "      <td>0.306326</td>\n",
       "      <td>-0.824575</td>\n",
       "      <td>2.065426</td>\n",
       "      <td>-1.829347</td>\n",
       "      <td>4.009259</td>\n",
       "      <td>6.051521</td>\n",
       "      <td>...</td>\n",
       "      <td>-0.181268</td>\n",
       "      <td>-0.163747</td>\n",
       "      <td>0.515821</td>\n",
       "      <td>0.136318</td>\n",
       "      <td>0.460054</td>\n",
       "      <td>-0.251259</td>\n",
       "      <td>-1.105751</td>\n",
       "      <td>-0.287012</td>\n",
       "      <td>-0.994373</td>\n",
       "      <td>0</td>\n",
       "    </tr>\n",
       "  </tbody>\n",
       "</table>\n",
       "<p>5 rows × 31 columns</p>\n",
       "</div>"
      ],
      "text/plain": [
       "         V1        V2        V3        V4        V5        V6        V7  \\\n",
       "0 -0.338262  1.119593  1.044367 -0.222187  0.499361 -0.246761  0.651583   \n",
       "1  0.962496  0.328461 -0.171479  2.109204  1.129566  1.696038  0.107712   \n",
       "2  1.145524  0.575068  0.194008  2.598192 -0.092210 -1.044430  0.531588   \n",
       "3  0.927060 -0.323684  0.387585  0.544474  0.246787  1.650358 -0.427576   \n",
       "4 -3.005237  2.600138  1.483691 -2.418473  0.306326 -0.824575  2.065426   \n",
       "\n",
       "         V8        V9       V10  ...       V22       V23       V24       V25  \\\n",
       "0  0.069539 -0.736727 -0.366846  ... -0.633753 -0.120794 -0.385050 -0.069733   \n",
       "1  0.521502 -1.191311  0.724396  ...  0.402492 -0.048508 -1.371866  0.390814   \n",
       "2 -0.241888 -0.896287  0.757952  ... -0.119703 -0.076510  0.691320  0.633984   \n",
       "3  0.615371  0.226278 -0.225495  ...  0.079359  0.096632 -0.992569  0.085096   \n",
       "4 -1.829347  4.009259  6.051521  ... -0.181268 -0.163747  0.515821  0.136318   \n",
       "\n",
       "        V26       V27       V28       V29       V30  Class  \n",
       "0  0.094199  0.246219  0.083076 -0.255991 -0.994878      0  \n",
       "1  0.199964  0.016371 -0.014605  0.168937 -0.994784      0  \n",
       "2  0.048741 -0.053192  0.016251  0.169496 -0.994502      0  \n",
       "3  0.377447  0.036096 -0.005960  0.331307 -0.994467      0  \n",
       "4  0.460054 -0.251259 -1.105751 -0.287012 -0.994373      0  \n",
       "\n",
       "[5 rows x 31 columns]"
      ]
     },
     "execution_count": 30,
     "metadata": {},
     "output_type": "execute_result"
    }
   ],
   "source": [
    "data = data.drop(columns=['ID'])\n",
    "data.head()"
   ]
  },
  {
   "cell_type": "code",
   "execution_count": 31,
   "metadata": {},
   "outputs": [],
   "source": [
    "cnt = data[data['Class'] == 1].shape[0]"
   ]
  },
  {
   "cell_type": "code",
   "execution_count": 32,
   "metadata": {},
   "outputs": [
    {
     "name": "stdout",
     "output_type": "stream",
     "text": [
      "30 28432\n"
     ]
    }
   ],
   "source": [
    "class1 = data[data['Class']==1]\n",
    "other = data[data['Class'] != 1]\n",
    "print(len(class1), len(other))"
   ]
  },
  {
   "cell_type": "code",
   "execution_count": 33,
   "metadata": {},
   "outputs": [
    {
     "name": "stdout",
     "output_type": "stream",
     "text": [
      "25615 2847\n"
     ]
    }
   ],
   "source": [
    "class_1_train, class_1_test = train_test_split(class1, test_size=0.1, random_state=42)\n",
    "\n",
    "# 나머지 데이터를 train과 test로 나눕니다.\n",
    "other_train, other_test = train_test_split(other, test_size=0.1, random_state=42)\n",
    "\n",
    "# 각각의 train 데이터를 합칩니다.\n",
    "train_data = pd.concat([class_1_train, other_train])\n",
    "\n",
    "# 각각의 test 데이터를 합칩니다.\n",
    "test_data = pd.concat([class_1_test, other_test])\n",
    "print(len(train_data), len(test_data))"
   ]
  },
  {
   "cell_type": "code",
   "execution_count": 34,
   "metadata": {},
   "outputs": [],
   "source": [
    "x_train = train_data.drop(columns=['Class']).to_numpy()\n",
    "y_train = train_data['Class'].to_numpy()\n",
    "\n",
    "# test_data를 x_test와 y_test로 나눕니다.\n",
    "x_test = test_data.drop(columns=['Class']).to_numpy()\n",
    "y_test = test_data['Class'].to_numpy()\n",
    "\n",
    "np.random.seed(42)\n",
    "train_indices = np.random.permutation(x_train.shape[0])\n",
    "x_train_np = x_train[train_indices]\n",
    "y_train_np = y_train[train_indices]\n",
    "\n",
    "# test 데이터를 섞습니다.\n",
    "test_indices = np.random.permutation(x_test.shape[0])\n",
    "x_test_np = x_test[test_indices]\n",
    "y_test_np = y_test[test_indices]"
   ]
  },
  {
   "cell_type": "code",
   "execution_count": 35,
   "metadata": {},
   "outputs": [
    {
     "name": "stdout",
     "output_type": "stream",
     "text": [
      "cuda:0\n"
     ]
    }
   ],
   "source": [
    "device = torch.device('cuda:0' if torch.cuda.is_available() else 'cpu')\n",
    "print(device)"
   ]
  },
  {
   "cell_type": "code",
   "execution_count": 36,
   "metadata": {},
   "outputs": [
    {
     "name": "stderr",
     "output_type": "stream",
     "text": [
      "/home/a2019312297/miniconda3/envs/hyperfast/lib/python3.11/site-packages/torch/optim/lr_scheduler.py:28: UserWarning: The verbose parameter is deprecated. Please use get_last_lr() to access the learning rate.\n",
      "  warnings.warn(\"The verbose parameter is deprecated. Please use get_last_lr() \"\n"
     ]
    },
    {
     "ename": "RuntimeError",
     "evalue": "stack expects each tensor to be equal size, but got [2847, 2] at entry 0 and [2847, 1] at entry 4",
     "output_type": "error",
     "traceback": [
      "\u001b[0;31m---------------------------------------------------------------------------\u001b[0m",
      "\u001b[0;31mRuntimeError\u001b[0m                              Traceback (most recent call last)",
      "Cell \u001b[0;32mIn[36], line 5\u001b[0m\n\u001b[1;32m      3\u001b[0m \u001b[38;5;66;03m# Generate a target network and make predictions\u001b[39;00m\n\u001b[1;32m      4\u001b[0m model\u001b[38;5;241m.\u001b[39mfit(x_train_np, y_train_np)\n\u001b[0;32m----> 5\u001b[0m predictions \u001b[38;5;241m=\u001b[39m \u001b[43mmodel\u001b[49m\u001b[38;5;241;43m.\u001b[39;49m\u001b[43mpredict\u001b[49m\u001b[43m(\u001b[49m\u001b[43mx_test_np\u001b[49m\u001b[43m)\u001b[49m\n\u001b[1;32m      7\u001b[0m accuracy \u001b[38;5;241m=\u001b[39m accuracy_score(y_test_np, predictions)\n\u001b[1;32m      8\u001b[0m \u001b[38;5;28mprint\u001b[39m(\u001b[38;5;124mf\u001b[39m\u001b[38;5;124m\"\u001b[39m\u001b[38;5;124mAccuracy: \u001b[39m\u001b[38;5;132;01m{\u001b[39;00maccuracy\u001b[38;5;250m \u001b[39m\u001b[38;5;241m*\u001b[39m\u001b[38;5;250m \u001b[39m\u001b[38;5;241m100\u001b[39m\u001b[38;5;132;01m:\u001b[39;00m\u001b[38;5;124m.2f\u001b[39m\u001b[38;5;132;01m}\u001b[39;00m\u001b[38;5;124m%\u001b[39m\u001b[38;5;124m\"\u001b[39m)\n",
      "File \u001b[0;32m~/miniconda3/envs/hyperfast/lib/python3.11/site-packages/hyperfast/hyperfast.py:418\u001b[0m, in \u001b[0;36mHyperFastClassifier.predict\u001b[0;34m(self, X)\u001b[0m\n\u001b[1;32m    417\u001b[0m \u001b[38;5;28;01mdef\u001b[39;00m \u001b[38;5;21mpredict\u001b[39m(\u001b[38;5;28mself\u001b[39m, X: np\u001b[38;5;241m.\u001b[39mndarray \u001b[38;5;241m|\u001b[39m pd\u001b[38;5;241m.\u001b[39mDataFrame) \u001b[38;5;241m-\u001b[39m\u001b[38;5;241m>\u001b[39m np\u001b[38;5;241m.\u001b[39mndarray:\n\u001b[0;32m--> 418\u001b[0m     outputs \u001b[38;5;241m=\u001b[39m \u001b[38;5;28;43mself\u001b[39;49m\u001b[38;5;241;43m.\u001b[39;49m\u001b[43mpredict_proba\u001b[49m\u001b[43m(\u001b[49m\u001b[43mX\u001b[49m\u001b[43m)\u001b[49m\n\u001b[1;32m    419\u001b[0m     \u001b[38;5;28;01mreturn\u001b[39;00m \u001b[38;5;28mself\u001b[39m\u001b[38;5;241m.\u001b[39mclasses_[np\u001b[38;5;241m.\u001b[39margmax(outputs, axis\u001b[38;5;241m=\u001b[39m\u001b[38;5;241m1\u001b[39m)]\n",
      "File \u001b[0;32m~/miniconda3/envs/hyperfast/lib/python3.11/site-packages/hyperfast/hyperfast.py:413\u001b[0m, in \u001b[0;36mHyperFastClassifier.predict_proba\u001b[0;34m(self, X)\u001b[0m\n\u001b[1;32m    410\u001b[0m     predicted \u001b[38;5;241m=\u001b[39m F\u001b[38;5;241m.\u001b[39msoftmax(outputs, dim\u001b[38;5;241m=\u001b[39m\u001b[38;5;241m1\u001b[39m)\n\u001b[1;32m    411\u001b[0m     yhats\u001b[38;5;241m.\u001b[39mappend(predicted)\n\u001b[0;32m--> 413\u001b[0m yhats \u001b[38;5;241m=\u001b[39m \u001b[43mtorch\u001b[49m\u001b[38;5;241;43m.\u001b[39;49m\u001b[43mstack\u001b[49m\u001b[43m(\u001b[49m\u001b[43myhats\u001b[49m\u001b[43m)\u001b[49m\n\u001b[1;32m    414\u001b[0m yhats \u001b[38;5;241m=\u001b[39m torch\u001b[38;5;241m.\u001b[39mmean(yhats, axis\u001b[38;5;241m=\u001b[39m\u001b[38;5;241m0\u001b[39m)\n\u001b[1;32m    415\u001b[0m \u001b[38;5;28;01mreturn\u001b[39;00m yhats\u001b[38;5;241m.\u001b[39mcpu()\u001b[38;5;241m.\u001b[39mnumpy()\n",
      "\u001b[0;31mRuntimeError\u001b[0m: stack expects each tensor to be equal size, but got [2847, 2] at entry 0 and [2847, 1] at entry 4"
     ]
    }
   ],
   "source": [
    "model = HyperFastClassifier(device=device)\n",
    "\n",
    "# Generate a target network and make predictions\n",
    "model.fit(x_train_np, y_train_np)\n",
    "predictions = model.predict(x_test_np)\n",
    "\n",
    "accuracy = accuracy_score(y_test_np, predictions)\n",
    "print(f\"Accuracy: {accuracy * 100:.2f}%\")\n",
    "\n",
    "class_1_indices = np.where(y_test_np == 1)[0]\n",
    "class_1_accuracy = accuracy_score(y_test_np[class_1_indices], predictions[class_1_indices])\n",
    "print(f\"Class 1 Accuracy: {class_1_accuracy * 100:.2f}%\")\n",
    "\n",
    "# class=1이 아닌 경우의 정확도를 계산합니다.\n",
    "class_0_indices = np.where(y_test_np != 1)[0]\n",
    "class_0_accuracy = accuracy_score(y_test_np[class_0_indices], predictions[class_0_indices])\n",
    "print(f\"Class 0 Accuracy: {class_0_accuracy * 100:.2f}%\")"
   ]
  }
 ],
 "metadata": {
  "kernelspec": {
   "display_name": "hyperfast",
   "language": "python",
   "name": "python3"
  },
  "language_info": {
   "codemirror_mode": {
    "name": "ipython",
    "version": 3
   },
   "file_extension": ".py",
   "mimetype": "text/x-python",
   "name": "python",
   "nbconvert_exporter": "python",
   "pygments_lexer": "ipython3",
   "version": "3.11.9"
  }
 },
 "nbformat": 4,
 "nbformat_minor": 2
}
